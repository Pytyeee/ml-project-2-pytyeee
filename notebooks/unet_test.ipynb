{
 "cells": [
  {
   "cell_type": "code",
   "execution_count": null,
   "metadata": {},
   "outputs": [],
   "source": [
    "import sys\n",
    "import os\n",
    "sys.path.append(\"/content/ml-project-2-pytyeee/\")\n",
    "\n",
    "REPO_DIR = \"ml-project-2-pytyeee/\""
   ]
  },
  {
   "cell_type": "code",
   "execution_count": null,
   "metadata": {},
   "outputs": [],
   "source": [
    "from scripts.preprocessing import *\n",
    "from helpers import *"
   ]
  },
  {
   "cell_type": "code",
   "execution_count": null,
   "metadata": {},
   "outputs": [],
   "source": [
    "DEVICE = torch.device(\"cuda\" if torch.cuda.is_available() else \"cpu\")\n",
    "print(DEVICE)"
   ]
  },
  {
   "cell_type": "code",
   "execution_count": null,
   "metadata": {},
   "outputs": [],
   "source": [
    "test_dir = REPO_DIR + \"dataset/test_set_images/\"\n",
    "test_images_filename = test_dir\n",
    "\n",
    "TESTING_SIZE = 50\n",
    "\n",
    "test_data = extract_data(test_images_filename, TESTING_SIZE, test=True)\n",
    "test_data = torch.from_numpy(np.transpose(test_data, (0, 3, 1, 2)))\n",
    "print(f\"Test shape: {test_data.shape}\")\n",
    "\n",
    "test_data = test_data.to(DEVICE)"
   ]
  },
  {
   "cell_type": "code",
   "execution_count": null,
   "metadata": {},
   "outputs": [],
   "source": [
    "predictions = model(test_data)\n",
    "pred = torch.where(predictions > 0.5, 1., 0.)"
   ]
  }
 ],
 "metadata": {
  "kernelspec": {
   "display_name": "Python 3.10.12 64-bit",
   "language": "python",
   "name": "python3"
  },
  "language_info": {
   "name": "python",
   "version": "3.10.12"
  },
  "orig_nbformat": 4,
  "vscode": {
   "interpreter": {
    "hash": "97cc609b13305c559618ec78a438abc56230b9381f827f22d070313b9a1f3777"
   }
  }
 },
 "nbformat": 4,
 "nbformat_minor": 2
}
