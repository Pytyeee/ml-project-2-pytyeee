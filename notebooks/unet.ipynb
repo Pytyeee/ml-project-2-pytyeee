{
 "cells": [
  {
   "cell_type": "code",
   "execution_count": 1,
   "metadata": {},
   "outputs": [],
   "source": [
    "import sys\n",
    "import os\n",
    "sys.path.append('../')"
   ]
  },
  {
   "cell_type": "code",
   "execution_count": 2,
   "metadata": {},
   "outputs": [],
   "source": [
    "import segmentation_models_pytorch as smp\n",
    "from scripts.preprocessing import *\n",
    "from torch.utils.data import DataLoader, TensorDataset\n",
    "import torch"
   ]
  },
  {
   "cell_type": "code",
   "execution_count": 3,
   "metadata": {},
   "outputs": [],
   "source": [
    "NUM_CPU = 2 # os.cpu_count()\n",
    "DEVICE = torch.device(\"cuda\" if torch.cuda.is_available() else \"cpu\")\n",
    "\n",
    "TRAINING_SIZE = 100\n",
    "BATCH_SIZE = 16\n",
    "NUM_EPOCHS = 10\n",
    "BASE_LR = 0.01\n",
    "\n",
    "ENCODER = 'resnet34'\n",
    "ENCODER_WEIGHTS = 'imagenet'\n",
    "ACTIVATION = 'sigmoid'"
   ]
  },
  {
   "cell_type": "code",
   "execution_count": 4,
   "metadata": {},
   "outputs": [
    {
     "name": "stdout",
     "output_type": "stream",
     "text": [
      "Loading ../dataset/training/images/satImage_001.png\n",
      "Loading ../dataset/training/images/satImage_100.png\n",
      "Loading ../dataset/training/groundtruth/satImage_001.png\n",
      "Loading ../dataset/training/groundtruth/satImage_100.png\n",
      "Input shapes: ((100, 400, 400, 3), (100, 400, 400))\n"
     ]
    }
   ],
   "source": [
    "train_dir = \"../dataset/training/\"\n",
    "train_images_filename = train_dir + \"images/\"\n",
    "train_masks_filename = train_dir + \"groundtruth/\"\n",
    "\n",
    "train_images = extract_data(train_images_filename, TRAINING_SIZE)\n",
    "train_masks = extract_data(train_masks_filename, TRAINING_SIZE)\n",
    "print(f\"Input shapes: {train_images.shape, train_masks.shape}\")"
   ]
  },
  {
   "cell_type": "code",
   "execution_count": 5,
   "metadata": {},
   "outputs": [
    {
     "name": "stdout",
     "output_type": "stream",
     "text": [
      "New shapes: (torch.Size([100, 3, 416, 416]), torch.Size([100, 1, 416, 416]))\n"
     ]
    }
   ],
   "source": [
    "# Resize images to a size divisible by 32 to make it UNet compatible\n",
    "train_data = img_resize(np.transpose(train_images, (0, 3, 1, 2)), (416, 416))\n",
    "train_labels = img_resize(np.transpose(np.expand_dims(train_masks, -1), (0, 3, 1, 2)),  (416, 416))\n",
    "print(f\"New shapes: {train_data.shape, train_labels.shape}\")"
   ]
  },
  {
   "cell_type": "code",
   "execution_count": 6,
   "metadata": {},
   "outputs": [],
   "source": [
    "# Create segmentation model with pretrained encoder\n",
    "model = smp.Unet(\n",
    "    encoder_name=ENCODER, \n",
    "    encoder_weights=ENCODER_WEIGHTS, \n",
    "    classes=1, \n",
    "    activation=ACTIVATION,\n",
    ")\n",
    "\n",
    "model = model.to(DEVICE)\n",
    "# preprocessing_fn = smp.encoders.get_preprocessing_fn(ENCODER, ENCODER_WEIGHTS)"
   ]
  },
  {
   "cell_type": "code",
   "execution_count": 7,
   "metadata": {},
   "outputs": [],
   "source": [
    "# Create dataset\n",
    "road_dataset = TensorDataset(train_data, train_labels)\n",
    "\n",
    "# Get train and val data loaders\n",
    "train_loader = DataLoader(road_dataset, batch_size=BATCH_SIZE, shuffle=True, num_workers=NUM_CPU)"
   ]
  },
  {
   "cell_type": "code",
   "execution_count": 8,
   "metadata": {},
   "outputs": [],
   "source": [
    "# define loss\n",
    "criterion = smp.losses.DiceLoss('binary')\n",
    "\n",
    "# define optimizer\n",
    "optimizer = torch.optim.Adam(model.parameters(), lr=BASE_LR)\n",
    "\n",
    "# define learning rate scheduler (not used in this NB)\n",
    "lr_scheduler = torch.optim.lr_scheduler.CosineAnnealingWarmRestarts(\n",
    "    optimizer, T_0=1, T_mult=2, eta_min=5e-5,\n",
    ")"
   ]
  },
  {
   "cell_type": "code",
   "execution_count": 9,
   "metadata": {},
   "outputs": [],
   "source": [
    "def train_epoch(model, optimizer, scheduler, criterion, train_loader, epoch, device):\n",
    "    # ***************************************************\n",
    "    # Set model to training mode (affects dropout, batch norm e.g.)\n",
    "    model.train()\n",
    "\n",
    "    loss_history = []\n",
    "    accuracy_history = []\n",
    "    f1_history = []\n",
    "    lr_history = []\n",
    "\n",
    "    for batch_idx, (data, target) in enumerate(train_loader):\n",
    "        # Move the data to the device\n",
    "        print(data.shape, target.shape)\n",
    "        data, target = data.to(device), target.to(device)\n",
    "        # Zero the gradients\n",
    "        optimizer.zero_grad()\n",
    "        # Compute model output\n",
    "        output = model(data)\n",
    "        # Compute loss\n",
    "        print(output.shape, target.shape)\n",
    "        print(output[0])\n",
    "        loss = criterion(output, target)\n",
    "        # Backpropagate loss\n",
    "        loss.backward()\n",
    "        # Perform an optimizer step\n",
    "        optimizer.step()\n",
    "\n",
    "        # Perform a learning rate scheduler step\n",
    "        scheduler.step()\n",
    "        # Compute accuracy_float (float value, not a tensor)\n",
    "        pred = output.argmax(dim=1, keepdim=True)\n",
    "        correct = pred.eq(target.view_as(pred)).sum().item()\n",
    "        accuracy_float = correct / len(data)\n",
    "        # Compute loss_float (float value, not a tensor)\n",
    "        loss_float = loss.item()\n",
    "        # Add loss_float to loss_history\n",
    "        loss_history.append(loss_float)\n",
    "        # Add accuracy_float to accuracy_history\n",
    "        accuracy_history.append(accuracy_float)\n",
    "        # Add learning rate to lr_history\n",
    "        lr_history.append(scheduler.get_last_lr()[0])\n",
    "\n",
    "        if batch_idx % (len(train_loader.dataset) // len(data) // 10) == 0:\n",
    "            print(\n",
    "                f\"Train Epoch: {epoch}-{batch_idx:03d} \"\n",
    "                f\"batch_loss={loss_float:0.2e} \"\n",
    "                f\"batch_acc={accuracy_float:0.3f} \"\n",
    "                f\"lr={scheduler.get_last_lr()[0]:0.3e} \"\n",
    "            )\n",
    "\n",
    "    return loss_history, accuracy_history, lr_history    "
   ]
  },
  {
   "cell_type": "code",
   "execution_count": 10,
   "metadata": {},
   "outputs": [
    {
     "name": "stdout",
     "output_type": "stream",
     "text": [
      "torch.Size([16, 3, 416, 416]) torch.Size([16, 1, 416, 416])\n"
     ]
    }
   ],
   "source": [
    "train_epoch(model, optimizer, lr_scheduler, criterion, train_loader, 0, DEVICE)"
   ]
  }
 ],
 "metadata": {
  "kernelspec": {
   "display_name": "Python 3.10.12 64-bit",
   "language": "python",
   "name": "python3"
  },
  "language_info": {
   "codemirror_mode": {
    "name": "ipython",
    "version": 3
   },
   "file_extension": ".py",
   "mimetype": "text/x-python",
   "name": "python",
   "nbconvert_exporter": "python",
   "pygments_lexer": "ipython3",
   "version": "3.10.12"
  },
  "orig_nbformat": 4,
  "vscode": {
   "interpreter": {
    "hash": "97cc609b13305c559618ec78a438abc56230b9381f827f22d070313b9a1f3777"
   }
  }
 },
 "nbformat": 4,
 "nbformat_minor": 2
}
