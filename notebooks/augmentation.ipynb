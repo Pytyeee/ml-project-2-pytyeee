{
 "cells": [
  {
   "cell_type": "code",
   "execution_count": 1,
   "metadata": {},
   "outputs": [],
   "source": [
    "import sys\n",
    "import os\n",
    "sys.path.append(\"../\")"
   ]
  },
  {
   "cell_type": "code",
   "execution_count": 2,
   "metadata": {},
   "outputs": [],
   "source": [
    "import os\n",
    "import cv2\n",
    "import numpy as np\n",
    "import albumentations as alb\n",
    "from scripts.preprocessing import *\n",
    "from helpers.model_handler import *\n",
    "import matplotlib.pyplot as plt\n",
    "import random"
   ]
  },
  {
   "cell_type": "code",
   "execution_count": 3,
   "metadata": {},
   "outputs": [],
   "source": [
    "IMAGE_DIR = \"../dataset/training/images/\"\n",
    "GT_DIR = \"../dataset/training/groundtruth/\"\n",
    "IMAGE_DIR_AUGMENTED = \"../dataset/training/augmented_images/\"\n",
    "GT_DIR_AUGMENTED = \"../dataset/training/augmented_groundtruth/\"\n",
    "FILES = sorted(os.listdir(IMAGE_DIR))"
   ]
  },
  {
   "cell_type": "code",
   "execution_count": 4,
   "metadata": {},
   "outputs": [],
   "source": [
    "def save_augmented(images, masks):\n",
    "    assert len(images) == len(masks)\n",
    "    \n",
    "    if not os.path.isdir(IMAGE_DIR_AUGMENTED):\n",
    "        os.mkdir(IMAGE_DIR_AUGMENTED)\n",
    "    if not os.path.isdir(GT_DIR_AUGMENTED):\n",
    "        os.mkdir(GT_DIR_AUGMENTED)\n",
    "        \n",
    "    transforms = [\n",
    "        # Each yields 100 new images\n",
    "        rotate_shift(rotate=1, degree=90),\n",
    "        rotate_shift(rotate=1, degree=-90),\n",
    "        rotate_shift(rotate=1, degree=180),\n",
    "        rotate_shift(h_flip=1),\n",
    "        rotate_shift(v_flip=1),\n",
    "        rotate_shift(rotate=1, h_flip=1, degree=90),\n",
    "        rotate_shift(rotate=1, v_flip=1, degree=90),\n",
    "        distortion(),\n",
    "        blur(),\n",
    "        alb.GaussNoise((50, 100), p=1),\n",
    "    ]\n",
    "\n",
    "    for tsfm in transforms:\n",
    "        existing = len(os.listdir(IMAGE_DIR_AUGMENTED))\n",
    "        \n",
    "        for i in range(len(images)): \n",
    "\n",
    "            transform = alb.Compose([tsfm, alb.Resize(416, 416)])\n",
    "    \n",
    "            image = img_float_to_uint8(images[i])\n",
    "            mask = img_float_to_uint8(masks[i])\n",
    "            aug = transform(image=image, mask=mask)\n",
    "            img_aug = aug['image']\n",
    "            msk_aug = aug['mask']\n",
    "\n",
    "            if random.random() < 0.1:\n",
    "                img_aug, msk_aug = rotate_inner(img_aug, msk_aug)\n",
    "\n",
    "            img_name = f\"satImage_{str(existing+i+1).zfill(3)}.png\"\n",
    "            msk_name = f\"satImage_{str(existing+i+1).zfill(3)}.png\"\n",
    "\n",
    "            r1 = cv2.imwrite(os.path.join(IMAGE_DIR_AUGMENTED, img_name), img_aug)\n",
    "            r2 = cv2.imwrite(os.path.join(GT_DIR_AUGMENTED, msk_name), msk_aug)\n",
    "            if not r1:\n",
    "                print(\"Error saving image: \", img_name)\n",
    "            if not r2:\n",
    "                print(\"Error saving mask: \", msk_name)\n",
    "\n",
    "\n",
    "\n",
    "def rotate_shift(rotate=0, h_flip=0, v_flip=0, degree=0):\n",
    "    return alb.Compose([\n",
    "        alb.Rotate(limit=(degree, degree), p=rotate),\n",
    "        alb.HorizontalFlip(p=h_flip),\n",
    "        alb.VerticalFlip(p=v_flip)\n",
    "    ])\n",
    "\n",
    "def distortion():\n",
    "    return alb.OneOf([alb.OpticalDistortion(0.3, 0.3), alb.GridDistortion(5, 0.3)], p=1)\n",
    "\n",
    "def blur():\n",
    "    return alb.OneOf([alb.MedianBlur(), alb.GaussianBlur()], p=1)\n",
    "\n",
    "def rotate_inner(image, groundtruth):\n",
    "\n",
    "    rgood = False\n",
    "    while not rgood:\n",
    "        x = random.randint(0, image.shape[1] - 1)\n",
    "        y = random.randint(0, image.shape[0] - 1)\n",
    "        try:\n",
    "            r = random.randint(40, min(x, y, image.shape[1] - x, image.shape[0] - y))\n",
    "            rgood = True\n",
    "        except:\n",
    "            pass\n",
    "            \n",
    "    # Create a circular mask\n",
    "    mask = np.zeros_like(image)\n",
    "    cv2.circle(mask, (x, y), r, (255, 255, 255), thickness=-1)\n",
    "\n",
    "    # Randomly generate angle theta in [0, 2*pi]\n",
    "    theta = random.uniform(0, 2 * np.pi)\n",
    "\n",
    "    # Rotate the circular area within Cx, Cy, r in image I with angle theta\n",
    "    M = cv2.getRotationMatrix2D((x, y), np.degrees(theta), 1)\n",
    "    rotated_area = cv2.warpAffine(image, M, (image.shape[1], image.shape[0]))\n",
    "\n",
    "    rotated_area_gt = cv2.warpAffine(groundtruth, M, (groundtruth.shape[1], groundtruth.shape[0]))\n",
    "\n",
    "    # Combine the rotated area with the original image\n",
    "    I_augmented = cv2.bitwise_and(rotated_area, mask) + cv2.bitwise_and(image, cv2.bitwise_not(mask))\n",
    "    G_augmented = cv2.bitwise_and(rotated_area_gt, mask[:, :, 0]) + cv2.bitwise_and(groundtruth, cv2.bitwise_not(mask[:, :, 0]))\n",
    "\n",
    "    return I_augmented, G_augmented"
   ]
  },
  {
   "cell_type": "code",
   "execution_count": 5,
   "metadata": {},
   "outputs": [
    {
     "name": "stdout",
     "output_type": "stream",
     "text": [
      "100 100\n"
     ]
    }
   ],
   "source": [
    "images = [load_image(IMAGE_DIR + FILES[i]) for i in range(len(FILES))]\n",
    "masks = [load_image(GT_DIR + FILES[i]) for i in range(len(FILES))]\n",
    "print(len(images), len(masks))"
   ]
  },
  {
   "cell_type": "code",
   "execution_count": 6,
   "metadata": {},
   "outputs": [],
   "source": [
    "save_augmented(images, masks)"
   ]
  }
 ],
 "metadata": {
  "kernelspec": {
   "display_name": "Python 3.10.12 64-bit",
   "language": "python",
   "name": "python3"
  },
  "language_info": {
   "codemirror_mode": {
    "name": "ipython",
    "version": 3
   },
   "file_extension": ".py",
   "mimetype": "text/x-python",
   "name": "python",
   "nbconvert_exporter": "python",
   "pygments_lexer": "ipython3",
   "version": "3.10.12"
  },
  "vscode": {
   "interpreter": {
    "hash": "97cc609b13305c559618ec78a438abc56230b9381f827f22d070313b9a1f3777"
   }
  }
 },
 "nbformat": 4,
 "nbformat_minor": 2
}
