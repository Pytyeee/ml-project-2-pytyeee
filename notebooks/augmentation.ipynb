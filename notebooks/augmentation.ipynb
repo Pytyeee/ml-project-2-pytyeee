{
 "cells": [
  {
   "cell_type": "code",
   "execution_count": 1,
   "metadata": {},
   "outputs": [],
   "source": [
    "import sys\n",
    "import os\n",
    "sys.path.append(\"../\")"
   ]
  },
  {
   "cell_type": "code",
   "execution_count": 2,
   "metadata": {},
   "outputs": [],
   "source": [
    "import os\n",
    "import cv2\n",
    "import numpy as np\n",
    "import albumentations as alb\n",
    "from scripts.preprocessing import *\n",
    "from helpers.model_handler import *\n",
    "import matplotlib.pyplot as plt"
   ]
  },
  {
   "cell_type": "markdown",
   "metadata": {},
   "source": [
    "WARNING DOES NOT ADD ORIGINAL DATASET. SHOULD ALREADY BE CONTAINED IN DIR"
   ]
  },
  {
   "cell_type": "code",
   "execution_count": 3,
   "metadata": {},
   "outputs": [],
   "source": [
    "IMAGE_DIR = \"../dataset/training/images/\"\n",
    "GT_DIR = \"../dataset/training/groundtruth/\"\n",
    "IMAGE_DIR_AUGMENTED = \"../dataset/training/augmented_imagesT/\"\n",
    "GT_DIR_AUGMENTED = \"../dataset/training/augmented_groundtruthT/\"\n",
    "FILES = sorted(os.listdir(IMAGE_DIR))\n",
    "N_IMGS = 100"
   ]
  },
  {
   "cell_type": "code",
   "execution_count": 7,
   "metadata": {},
   "outputs": [],
   "source": [
    "def save_augmented(images, masks, number=1):\n",
    "    assert len(images) == len(masks)\n",
    "    \n",
    "    if not os.path.isdir(IMAGE_DIR_AUGMENTED):\n",
    "        os.mkdir(IMAGE_DIR_AUGMENTED)\n",
    "    if not os.path.isdir(GT_DIR_AUGMENTED):\n",
    "        os.mkdir(GT_DIR_AUGMENTED)\n",
    "        \n",
    "    existing = len(os.listdir(IMAGE_DIR_AUGMENTED))\n",
    "\n",
    "    for i in range(len(images)):\n",
    "        for __ in range(number):\n",
    "            \n",
    "            image = img_float_to_uint8(images[i])\n",
    "            mask = img_float_to_uint8(masks[i])\n",
    "            aug = get_transform()(image=image, mask=mask)\n",
    "            img_aug = aug['image']\n",
    "            msk_aug = aug['mask']\n",
    "\n",
    "            img_name = f\"satImage_{str(existing+i).zfill(3)}.png\"\n",
    "            msk_name = f\"satImage_{str(existing+i).zfill(3)}.png\"\n",
    "\n",
    "            cv2.imwrite(os.path.join(IMAGE_DIR_AUGMENTED, img_name), img_aug)\n",
    "            cv2.imwrite(os.path.join(GT_DIR_AUGMENTED, msk_name), msk_aug)\n",
    "\n",
    "# Pixel_transforms (label stay unchanged): \n",
    "\n",
    "# AdvancedBlur\n",
    "# Blur\n",
    "# CLAHE\n",
    "# ChannelDropout\n",
    "# ChannelShuffle\n",
    "# ColorJitter\n",
    "# Defocus\n",
    "# Downscale\n",
    "# Emboss\n",
    "# Equalize\n",
    "# FDA\n",
    "# FancyPCA\n",
    "# FromFloat\n",
    "# GaussNoise\n",
    "# GaussianBlur\n",
    "# GlassBlur\n",
    "# HistogramMatching\n",
    "# HueSaturationValue\n",
    "# ISONoise\n",
    "# ImageCompression\n",
    "# InvertImg\n",
    "# MedianBlur\n",
    "# MotionBlur\n",
    "# MultiplicativeNoise\n",
    "# Normalize\n",
    "# PixelDistributionAdaptation\n",
    "# Posterize\n",
    "# RGBShift\n",
    "# RandomBrightnessContrast\n",
    "# RandomFog\n",
    "# RandomGamma\n",
    "# RandomGravel\n",
    "# RandomRain\n",
    "# RandomShadow\n",
    "# RandomSnow\n",
    "# RandomSunFlare\t\n",
    "# Solarize\n",
    "# Spatter\n",
    "# Superpixels\n",
    "# TemplateTransform\n",
    "# ToFloat\n",
    "# ToGray\n",
    "# ToRGB\n",
    "# ToSepia\n",
    "# UnsharpMask\n",
    "# ZoomBlur\n",
    "\n",
    "# Spatial transforms (changes labels):\n",
    "# Affine\n",
    "# BBoxSafeRandomCrop\t\n",
    "# CenterCrop\n",
    "# CoarseDropout\n",
    "# Crop\n",
    "# CropAndPad \n",
    "# CropNonEmptyMaskIfExists\n",
    "# ElasticTransform\n",
    "# Flip\n",
    "# GridDistortion\t\n",
    "# GridDropout \t\n",
    "# HorizontalFlip\n",
    "# Lambda\n",
    "# LongestMaxSize \n",
    "# MaskDropout \t\n",
    "# NoOp \n",
    "# OpticalDistortion\t\n",
    "# PadIfNeeded \n",
    "# Perspective \n",
    "# PiecewiseAffine \n",
    "# PixelDropout \t\n",
    "# RandomCrop \t\n",
    "# RandomCropFromBorders \n",
    "# RandomCropNearBBox \n",
    "# RandomGridShuffle \t\n",
    "# RandomResizedCrop \t\n",
    "# RandomRotate90 \n",
    "# RandomScale \n",
    "# RandomSizedBBoxSafeCrop  \t\n",
    "# RandomSizedCrop \n",
    "# Resize \n",
    "# Rotate\n",
    "# SafeRotate\n",
    "# ShiftScaleRotate \n",
    "# SmallestMaxSize \n",
    "# Transpose\n",
    "# VerticalFlip\n",
    "\n",
    "\n",
    "def get_transform():\n",
    "    return alb.Compose([\n",
    "        alb.HorizontalFlip(),\n",
    "        alb.VerticalFlip(),\n",
    "        alb.Rotate(),\n",
    "        alb.RandomBrightnessContrast(),\n",
    "        alb.RandomScale(),\n",
    "        alb.ShiftScaleRotate(),\n",
    "        alb.RandomGamma(),\n",
    "        alb.RGBShift(),\n",
    "        alb.OpticalDistortion(),\n",
    "        alb.MotionBlur(),\n",
    "        alb.MedianBlur(),\n",
    "        alb.GaussianBlur(),\n",
    "        alb.ZoomBlur(),\n",
    "        alb.ElasticTransform(),\n",
    "        alb.Blur(),\n",
    "        alb.HueSaturationValue(),\n",
    "        alb.Crop(),\n",
    "        alb.GaussNoise(),\n",
    "        alb.GridDistortion()\n",
    "    ])"
   ]
  },
  {
   "cell_type": "code",
   "execution_count": 5,
   "metadata": {},
   "outputs": [
    {
     "name": "stdout",
     "output_type": "stream",
     "text": [
      "100 100\n"
     ]
    }
   ],
   "source": [
    "images = [load_image(IMAGE_DIR + FILES[i]) for i in range(N_IMGS)]\n",
    "masks = [load_image(GT_DIR + FILES[i]) for i in range(N_IMGS)]\n",
    "print(len(images), len(masks))"
   ]
  },
  {
   "cell_type": "code",
   "execution_count": 6,
   "metadata": {},
   "outputs": [],
   "source": [
    "save_augmented(images, masks)"
   ]
  }
 ],
 "metadata": {
  "kernelspec": {
   "display_name": "Python 3.10.12 64-bit",
   "language": "python",
   "name": "python3"
  },
  "language_info": {
   "codemirror_mode": {
    "name": "ipython",
    "version": 3
   },
   "file_extension": ".py",
   "mimetype": "text/x-python",
   "name": "python",
   "nbconvert_exporter": "python",
   "pygments_lexer": "ipython3",
   "version": "3.10.12"
  },
  "vscode": {
   "interpreter": {
    "hash": "97cc609b13305c559618ec78a438abc56230b9381f827f22d070313b9a1f3777"
   }
  }
 },
 "nbformat": 4,
 "nbformat_minor": 2
}
