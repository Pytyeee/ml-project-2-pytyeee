{
 "cells": [
  {
   "cell_type": "code",
   "execution_count": 1,
   "metadata": {},
   "outputs": [],
   "source": [
    "import sys\n",
    "import os\n",
    "sys.path.append(\"../\")\n",
    "DATA_DIR = \"../dataset/training/\""
   ]
  },
  {
   "cell_type": "code",
   "execution_count": 2,
   "metadata": {},
   "outputs": [],
   "source": [
    "from scripts.preprocessing import *\n",
    "from scripts.augmentation import *"
   ]
  },
  {
   "cell_type": "markdown",
   "metadata": {},
   "source": [
    "CREATE AUGMENTED DATASET"
   ]
  },
  {
   "cell_type": "code",
   "execution_count": 3,
   "metadata": {},
   "outputs": [],
   "source": [
    "ORIGIN_IMAGES = DATA_DIR + \"images/\"\n",
    "ORIGIN_MASKS = DATA_DIR + \"groundtruth/\"\n",
    "AUG_IMAGES = DATA_DIR + \"augmented_images/\"\n",
    "AUG_MASKS = DATA_DIR + \"augmented_groundtruth/\"\n",
    "FILES = sorted(os.listdir(ORIGIN_IMAGES))"
   ]
  },
  {
   "cell_type": "code",
   "execution_count": 4,
   "metadata": {},
   "outputs": [
    {
     "name": "stdout",
     "output_type": "stream",
     "text": [
      "100 100\n"
     ]
    }
   ],
   "source": [
    "# Load original dataset\n",
    "images = [load_image(ORIGIN_IMAGES + FILES[i]) for i in range(len(FILES))]\n",
    "masks = [load_image(ORIGIN_MASKS + FILES[i]) for i in range(len(FILES))]\n",
    "print(len(images), len(masks))"
   ]
  },
  {
   "cell_type": "code",
   "execution_count": 5,
   "metadata": {},
   "outputs": [],
   "source": [
    "if not os.path.isdir(AUG_IMAGES):\n",
    "    os.mkdir(AUG_IMAGES)\n",
    "if not os.path.isdir(AUG_MASKS):\n",
    "    os.mkdir(AUG_MASKS)"
   ]
  },
  {
   "cell_type": "code",
   "execution_count": 6,
   "metadata": {},
   "outputs": [
    {
     "name": "stderr",
     "output_type": "stream",
     "text": [
      "/home/yann/.local/lib/python3.10/site-packages/imgaug/imgaug.py:106: DeprecationWarning: Got a float array as the segmentation map in SegmentationMapsOnImage. That is deprecated. Please provide instead a (H,W,[C]) array of dtype bool_, int or uint, where C denotes the segmentation map index.\n",
      "  warn(msg, category=DeprecationWarning, stacklevel=stacklevel)\n"
     ]
    }
   ],
   "source": [
    "# Generates the 700 new images. The 100 first images are the original images\n",
    "data_augmented(images, masks, AUG_IMAGES, AUG_MASKS)"
   ]
  }
 ],
 "metadata": {
  "kernelspec": {
   "display_name": "Python 3.10.12 64-bit",
   "language": "python",
   "name": "python3"
  },
  "language_info": {
   "codemirror_mode": {
    "name": "ipython",
    "version": 3
   },
   "file_extension": ".py",
   "mimetype": "text/x-python",
   "name": "python",
   "nbconvert_exporter": "python",
   "pygments_lexer": "ipython3",
   "version": "3.10.12"
  },
  "orig_nbformat": 4,
  "vscode": {
   "interpreter": {
    "hash": "97cc609b13305c559618ec78a438abc56230b9381f827f22d070313b9a1f3777"
   }
  }
 },
 "nbformat": 4,
 "nbformat_minor": 2
}
